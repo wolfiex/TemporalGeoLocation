{
 "cells": [
  {
   "cell_type": "code",
   "execution_count": 2,
   "metadata": {},
   "outputs": [],
   "source": [
    "import tensorflow as tf\n",
    "import numpy as np\n",
    "import pandas as pd\n",
    "\n",
    "\n",
    "import gpflow\n",
    "import tensorflow as tf\n",
    "from gpflow.utilities import print_summary\n",
    "from gpflow.ci_utils import ci_niter\n",
    "from datetime import datetime\n",
    "#\n",
    "\n",
    "gpflow.config.set_default_float(np.float64)\n",
    "gpflow.config.set_default_summary_fmt(\"notebook\")"
   ]
  },
  {
   "cell_type": "code",
   "execution_count": 3,
   "metadata": {},
   "outputs": [],
   "source": [
    "df = pd.read_csv('./data_corrected.csv')"
   ]
  },
  {
   "cell_type": "code",
   "execution_count": 4,
   "metadata": {},
   "outputs": [
    {
     "data": {
      "text/plain": [
       "(array([51.50455319, -0.14204655]), array([2.19862]), 0.8456184260082402)"
      ]
     },
     "execution_count": 4,
     "metadata": {},
     "output_type": "execute_result"
    }
   ],
   "source": [
    "g = 20\n",
    "Xarr = df[['LAT','LON']].values[::g]\n",
    "Yarr = df.PM10.values[::g].reshape(-1,1)\n",
    "\n",
    "\n",
    "mn=Yarr.mean()\n",
    "sd=Yarr.std()\n",
    "mi=Yarr.min()\n",
    "\n",
    "# Yarr = np.log10(Yarr)\n",
    "Yarr -= mi-1\n",
    "Yarr = np.log10(Yarr)\n",
    "# Xarr[:,0]-= Xarr[:,0].mean()\n",
    "# Xarr[:,1]-= Xarr[:,1].mean()\n",
    "\n",
    "Xarr[1],Yarr[1],Yarr.mean()\n"
   ]
  },
  {
   "cell_type": "code",
   "execution_count": 5,
   "metadata": {},
   "outputs": [
    {
     "data": {
      "text/html": [
       "<table>\n",
       "<thead>\n",
       "<tr><th>name                              </th><th>class    </th><th>transform       </th><th>prior  </th><th>trainable  </th><th>shape  </th><th>dtype  </th><th style=\"text-align: right;\">       value</th></tr>\n",
       "</thead>\n",
       "<tbody>\n",
       "<tr><td>GPR.kernel.kernels[0].variance    </td><td>Parameter</td><td>Softplus        </td><td>       </td><td>True       </td><td>()     </td><td>float64</td><td style=\"text-align: right;\"> 0.714445   </td></tr>\n",
       "<tr><td>GPR.kernel.kernels[0].lengthscales</td><td>Parameter</td><td>Softplus        </td><td>       </td><td>True       </td><td>()     </td><td>float64</td><td style=\"text-align: right;\">10.6252     </td></tr>\n",
       "<tr><td>GPR.kernel.kernels[1].variance    </td><td>Parameter</td><td>Softplus        </td><td>       </td><td>True       </td><td>()     </td><td>float64</td><td style=\"text-align: right;\"> 1.65091e-21</td></tr>\n",
       "<tr><td>GPR.kernel.kernels[1].lengthscales</td><td>Parameter</td><td>Softplus        </td><td>       </td><td>True       </td><td>()     </td><td>float64</td><td style=\"text-align: right;\">50.1106     </td></tr>\n",
       "<tr><td>GPR.likelihood.variance           </td><td>Parameter</td><td>Softplus + Shift</td><td>       </td><td>True       </td><td>()     </td><td>float64</td><td style=\"text-align: right;\"> 0.213794   </td></tr>\n",
       "</tbody>\n",
       "</table>"
      ],
      "text/plain": [
       "<IPython.core.display.HTML object>"
      ]
     },
     "metadata": {},
     "output_type": "display_data"
    }
   ],
   "source": [
    "\n",
    "kernel =  gpflow.kernels.Matern52(active_dims=[0], lengthscales=2) + \\\n",
    "gpflow.kernels.Matern52(active_dims=[1], lengthscales=2)\n",
    "\n",
    "# kernel =  gpflow.kernels.Matern52(lengthscales=[1,2])\n",
    "\n",
    "# kernel=gpflow.kernels.Polynomial(1,degree=2.,active_dims=[0],ARD=True) + gpflow.kernels.Polynomial(1,degree = 2., active_dims=[1],ARD=True)\n",
    "\n",
    "m = gpflow.models.GPR(data=(Xarr, Yarr), kernel=kernel, mean_function=None)\n",
    "m.trainable_variables\n",
    "\n",
    "m.likelihood.variance.assign(0.01)\n",
    "\n",
    "\n",
    "opt = gpflow.optimizers.Scipy()\n",
    "opt_logs = opt.minimize(m.training_loss, m.trainable_variables, options=dict(maxiter=1000))\n",
    "print_summary(m)"
   ]
  },
  {
   "cell_type": "code",
   "execution_count": 6,
   "metadata": {},
   "outputs": [
    {
     "data": {
      "text/plain": [
       "(100, 2)"
      ]
     },
     "execution_count": 6,
     "metadata": {},
     "output_type": "execute_result"
    }
   ],
   "source": [
    "i = np.linspace(Xarr[:,0].min(), Xarr[:,0].max(), 100)\n",
    "j = np.linspace(Xarr[:,1].min(), Xarr[:,1].max(), 100)\n",
    "grid = np.array(list(zip(i,j)))\n",
    "grid.shape"
   ]
  },
  {
   "cell_type": "code",
   "execution_count": 7,
   "metadata": {},
   "outputs": [
    {
     "data": {
      "text/plain": [
       "((100, 2), TensorShape([100, 1, 1]), (100, 1, 2))"
      ]
     },
     "execution_count": 7,
     "metadata": {},
     "output_type": "execute_result"
    }
   ],
   "source": [
    "im = []\n",
    "\n",
    "for k in j:\n",
    "    g = np.array(list(zip([i,np.repeat(k,len(i))]))).T\n",
    "    var,err = m.predict_y(g)\n",
    "    im.append(var.numpy()[:,0,0])\n",
    "    \n",
    "\n",
    "\n",
    "grid.shape,var.shape,g.shape"
   ]
  },
  {
   "cell_type": "code",
   "execution_count": null,
   "metadata": {},
   "outputs": [],
   "source": [
    "\n"
   ]
  },
  {
   "cell_type": "code",
   "execution_count": 8,
   "metadata": {},
   "outputs": [
    {
     "data": {
      "text/plain": [
       "[<matplotlib.lines.Line2D at 0x7fb12eff8ca0>]"
      ]
     },
     "execution_count": 8,
     "metadata": {},
     "output_type": "execute_result"
    },
    {
     "data": {
      "text/plain": [
       "<Figure size 432x288 with 0 Axes>"
      ]
     },
     "metadata": {},
     "output_type": "display_data"
    },
    {
     "data": {
      "image/png": "[encoded data removed]",
      "text/plain": [
       "<Figure size 288x288 with 1 Axes>"
      ]
     },
     "metadata": {
      "needs_background": "light"
     },
     "output_type": "display_data"
    },
    {
     "data": {
      "image/png": "[encoded data removed]",
      "text/plain": [
       "<Figure size 432x288 with 1 Axes>"
      ]
     },
     "metadata": {
      "needs_background": "light"
     },
     "output_type": "display_data"
    }
   ],
   "source": [
    "import matplotlib.pyplot as plt\n",
    "plt.clf()\n",
    "plt.matshow(np.array(im))#im,alpha = err)\n",
    "plt.figure()\n",
    "plt.plot(Yarr)"
   ]
  },
  {
   "cell_type": "code",
   "execution_count": 9,
   "metadata": {},
   "outputs": [
    {
     "data": {
      "text/plain": [
       "TensorShape([100, 1, 1])"
      ]
     },
     "execution_count": 9,
     "metadata": {},
     "output_type": "execute_result"
    }
   ],
   "source": [
    "var.shape"
   ]
  },
  {
   "cell_type": "code",
   "execution_count": 10,
   "metadata": {},
   "outputs": [],
   "source": [
    "i = np.linspace(Xarr[:,0].min(), Xarr[:,0].max(), 100)\n",
    "j = np.linspace(Xarr[:,1].min(), Xarr[:,1].max(), 100)\n",
    "X, Y = np.meshgrid(i, j)\n",
    "mean, var = m.predict_y(np.array([np.reshape(X,(-1,)).T,np.reshape(Y,(-1,))]).T)\n"
   ]
  },
  {
   "cell_type": "code",
   "execution_count": 11,
   "metadata": {},
   "outputs": [
    {
     "data": {
      "image/png": "[encoded data removed]",
      "text/plain": [
       "<Figure size 432x288 with 1 Axes>"
      ]
     },
     "metadata": {
      "needs_background": "light"
     },
     "output_type": "display_data"
    }
   ],
   "source": [
    "import matplotlib.pyplot as plt\n",
    "plt.figure()\n",
    "cp = plt.contour(X, Y, np.reshape(mean,(100,100)))\n",
    "plt.clabel(cp, inline=True, \n",
    "          fontsize=10)\n",
    "# plt.plot(X1[:,0],X1[:,1],'b.')\n",
    "plt.title('Mean Contour Plot')\n",
    "plt.xlabel('x')\n",
    "plt.ylabel('y')\n",
    "plt.show()"
   ]
  },
  {
   "cell_type": "code",
   "execution_count": null,
   "metadata": {},
   "outputs": [],
   "source": []
  },
  {
   "cell_type": "code",
   "execution_count": null,
   "metadata": {},
   "outputs": [],
   "source": []
  }
 ],
 "metadata": {
  "kernelspec": {
   "display_name": "Python 3",
   "language": "python",
   "name": "python3"
  },
  "language_info": {
   "codemirror_mode": {
    "name": "ipython",
    "version": 3
   },
   "file_extension": ".py",
   "mimetype": "text/x-python",
   "name": "python",
   "nbconvert_exporter": "python",
   "pygments_lexer": "ipython3",
   "version": "3.8.6"
  }
 },
 "nbformat": 4,
 "nbformat_minor": 4
}
