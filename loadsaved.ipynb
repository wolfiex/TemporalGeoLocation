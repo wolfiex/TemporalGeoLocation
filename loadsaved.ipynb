{
 "cells": [
  {
   "cell_type": "code",
   "execution_count": 11,
   "metadata": {},
   "outputs": [
    {
     "name": "stderr",
     "output_type": "stream",
     "text": [
      "WARNING:absl:Importing a function (__inference_predict_f_2632517) with ops with custom gradients. Will likely fail if a gradient is requested.\n",
      "WARNING:absl:Importing a function (__inference_predict_f_2632517) with ops with custom gradients. Will likely fail if a gradient is requested.\n",
      "WARNING:absl:Importing a function (__inference_predict_f_2632517) with ops with custom gradients. Will likely fail if a gradient is requested.\n",
      "WARNING:absl:Importing a function (__inference_predict_f_2632517) with ops with custom gradients. Will likely fail if a gradient is requested.\n",
      "WARNING:absl:Importing a function (__inference_predict_f_2632517) with ops with custom gradients. Will likely fail if a gradient is requested.\n",
      "WARNING:absl:Importing a function (__inference_predict_f_2632517) with ops with custom gradients. Will likely fail if a gradient is requested.\n",
      "WARNING:absl:Importing a function (__inference_predict_f_2632517) with ops with custom gradients. Will likely fail if a gradient is requested.\n",
      "WARNING:absl:Importing a function (__inference_predict_f_2632517) with ops with custom gradients. Will likely fail if a gradient is requested.\n",
      "WARNING:absl:Importing a function (__inference_predict_f_2632517) with ops with custom gradients. Will likely fail if a gradient is requested.\n",
      "WARNING:absl:Importing a function (__inference_predict_f_2632517) with ops with custom gradients. Will likely fail if a gradient is requested.\n",
      "WARNING:absl:Importing a function (__inference_predict_f_2632517) with ops with custom gradients. Will likely fail if a gradient is requested.\n",
      "WARNING:absl:Importing a function (__inference_predict_f_2632517) with ops with custom gradients. Will likely fail if a gradient is requested.\n",
      "WARNING:absl:Importing a function (__inference_predict_f_2632517) with ops with custom gradients. Will likely fail if a gradient is requested.\n",
      "WARNING:absl:Importing a function (__inference_predict_f_2632517) with ops with custom gradients. Will likely fail if a gradient is requested.\n",
      "WARNING:absl:Importing a function (__inference_predict_f_2632517) with ops with custom gradients. Will likely fail if a gradient is requested.\n"
     ]
    }
   ],
   "source": [
    "import tensorflow as tf\n",
    "import numpy as np\n",
    "import pandas as pd\n",
    "\n",
    "save_dir = './gpe_locations'\n",
    "l = tf.saved_model.load(save_dir)\n",
    "\n"
   ]
  },
  {
   "cell_type": "code",
   "execution_count": 38,
   "metadata": {},
   "outputs": [
    {
     "data": {
      "text/plain": [
       "(<tf.Tensor: shape=(1, 2), dtype=float64, numpy=array([[-0.14465954, -0.69350384]])>,\n",
       " <tf.Tensor: shape=(1, 2), dtype=float64, numpy=array([[0.04044521, 0.04044521]])>)"
      ]
     },
     "execution_count": 38,
     "metadata": {},
     "output_type": "execute_result"
    }
   ],
   "source": [
    "l.means\n",
    "\n",
    "l.predict_f_compiled(np.array([[.4]],dtype=np.float64).reshape(-1,1))"
   ]
  },
  {
   "cell_type": "code",
   "execution_count": 61,
   "metadata": {},
   "outputs": [
    {
     "name": "stdout",
     "output_type": "stream",
     "text": [
      "[[0.       ]\n",
      " [1.1628846]]\n"
     ]
    },
    {
     "data": {
      "text/plain": [
       "([<tf.Tensor: shape=(2,), dtype=float64, numpy=array([51.50457553, -0.15675984])>,\n",
       "  <tf.Tensor: shape=(2,), dtype=float64, numpy=array([51.50792221, -0.13521932])>],\n",
       " <tf.Tensor: shape=(2, 2), dtype=float64, numpy=\n",
       " array([[  1779.07369073,   2627.20678917],\n",
       "        [-13153.7307607 ,     58.2472735 ]])>,\n",
       " DatetimeIndex(['2020-12-26 12:43:14+00:00', '2020-12-26 16:09:37+00:00'], dtype='datetime64[ns, UTC]', freq=None),\n",
       " <tf.Variable 'means:0' shape=(2,) dtype=float64, numpy=array([ 1.86027161e+04, -8.79689237e+00])>,\n",
       " <tf.Variable 'scale:0' shape=(2,) dtype=float64, numpy=array([361.18570063,  56.11632732])>)"
      ]
     },
     "execution_count": 61,
     "metadata": {},
     "output_type": "execute_result"
    }
   ],
   "source": [
    "\n",
    "d=pd.to_datetime(['2020-12-26 12:43:14+00:00','2020-12-26 16:43:14+00:00'])\n",
    "\n",
    "\n",
    "# @tf.function(input_signature=[tf.TensorSpec(shape=None, dtype=tf.float64)])\n",
    "def decode(m,x):\n",
    "    \n",
    "    xx = pd.to_datetime(m.xx.numpy().astype(str))\n",
    "    \n",
    "    dates = np.array((x-xx[0])/(xx[1]-xx[0])).reshape(-1,1)\n",
    "    print (dates)\n",
    "\n",
    "    \n",
    "    err, val = m.predict_f_compiled( dates )\n",
    "    \n",
    "    val = [(i+m.means)/m.scaled for i in val]\n",
    "    # \n",
    "    err *= m.scaled**2\n",
    "                   \n",
    "                   \n",
    "    return val,err,xx,m.means,m.scaled\n",
    " \n",
    "    \n",
    " \n",
    "decode(l,d)"
   ]
  },
  {
   "cell_type": "code",
   "execution_count": 54,
   "metadata": {},
   "outputs": [
    {
     "data": {
      "text/plain": [
       "<tf.Variable 'scale:0' shape=(2,) dtype=float64, numpy=array([361.18570063,  56.11632732])>"
      ]
     },
     "execution_count": 54,
     "metadata": {},
     "output_type": "execute_result"
    }
   ],
   "source": [
    "l.scaled\n"
   ]
  },
  {
   "cell_type": "code",
   "execution_count": null,
   "metadata": {},
   "outputs": [],
   "source": []
  }
 ],
 "metadata": {
  "kernelspec": {
   "display_name": "Python 3",
   "language": "python",
   "name": "python3"
  },
  "language_info": {
   "codemirror_mode": {
    "name": "ipython",
    "version": 3
   },
   "file_extension": ".py",
   "mimetype": "text/x-python",
   "name": "python",
   "nbconvert_exporter": "python",
   "pygments_lexer": "ipython3",
   "version": "3.8.6"
  }
 },
 "nbformat": 4,
 "nbformat_minor": 4
}
